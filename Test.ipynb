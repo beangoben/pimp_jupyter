{
 "cells": [
  {
   "cell_type": "markdown",
   "metadata": {},
   "source": [
    "# H1\n",
    "## H2\n",
    "### H3\n",
    "#### H4\n",
    "\n",
    "* 1 \n",
    "* 2\n",
    "* 3\n",
    "\n",
    "blah blah"
   ]
  },
  {
   "cell_type": "code",
   "execution_count": 4,
   "metadata": {
    "collapsed": false
   },
   "outputs": [
    {
     "name": "stdout",
     "output_type": "stream",
     "text": [
      "# Copyright (c) Jupyter Development Team.\r\n",
      "from jupyter_core.paths import jupyter_data_dir\r\n",
      "import subprocess\r\n",
      "import os\r\n",
      "import errno\r\n",
      "import stat\r\n",
      "\r\n",
      "PEM_FILE = os.path.join(jupyter_data_dir(), 'notebook.pem')\r\n",
      "\r\n",
      "c = get_config()\r\n",
      "c.NotebookApp.ip = '*'\r\n",
      "c.NotebookApp.port = 8888\r\n",
      "c.NotebookApp.open_browser = False\r\n",
      "\r\n",
      "# Set a certificate if USE_HTTPS is set to any value\r\n",
      "if 'USE_HTTPS' in os.environ:\r\n",
      "    if not os.path.isfile(PEM_FILE):\r\n",
      "        # Ensure PEM_FILE directory exists\r\n",
      "        dir_name = os.path.dirname(PEM_FILE)\r\n",
      "        try:\r\n",
      "            os.makedirs(dir_name)\r\n",
      "        except OSError as exc: # Python >2.5\r\n",
      "            if exc.errno == errno.EEXIST and os.path.isdir(dir_name):\r\n",
      "                pass\r\n",
      "            else: raise\r\n",
      "        # Generate a certificate if one doesn't exist on disk\r\n",
      "        subprocess.check_call(['openssl', 'req', '-new', \r\n",
      "            '-newkey', 'rsa:2048', '-days', '365', '-nodes', '-x509',\r\n",
      "            '-subj', '/C=XX/ST=XX/L=XX/O=generated/CN=generated',\r\n",
      "            '-keyout', PEM_FILE, '-out', PEM_FILE])\r\n",
      "        # Restrict access to PEM_FILE\r\n",
      "        os.chmod(PEM_FILE, stat.S_IRUSR | stat.S_IWUSR)\r\n",
      "    c.NotebookApp.certfile = PEM_FILE\r\n",
      "\r\n",
      "# Set a password if PASSWORD is set\r\n",
      "if 'PASSWORD' in os.environ:\r\n",
      "    from IPython.lib import passwd\r\n",
      "    c.NotebookApp.password = passwd(os.environ['PASSWORD'])\r\n",
      "    del os.environ['PASSWORD']"
     ]
    }
   ],
   "source": [
    "!cat ~/.jupyter/jupyter_notebook_config.py"
   ]
  },
  {
   "cell_type": "code",
   "execution_count": null,
   "metadata": {
    "collapsed": true
   },
   "outputs": [],
   "source": [
    "def factorial(n):return reduce(lambda x,y:x*y,[1]+range(1,n+1))\n",
    "\n",
    "def factorial(n):\n",
    "    if n == 0:\n",
    "        return 1\n",
    "    else:\n",
    "        return n * factorial(n-1)"
   ]
  }
 ],
 "metadata": {
  "kernelspec": {
   "display_name": "Python 3",
   "language": "python",
   "name": "python3"
  },
  "language_info": {
   "codemirror_mode": {
    "name": "ipython",
    "version": 3
   },
   "file_extension": ".py",
   "mimetype": "text/x-python",
   "name": "python",
   "nbconvert_exporter": "python",
   "pygments_lexer": "ipython3",
   "version": "3.5.2"
  }
 },
 "nbformat": 4,
 "nbformat_minor": 0
}
